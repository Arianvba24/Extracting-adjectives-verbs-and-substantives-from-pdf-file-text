{
 "cells": [
  {
   "cell_type": "code",
   "execution_count": 1,
   "id": "945f3191",
   "metadata": {},
   "outputs": [
    {
     "name": "stdout",
     "output_type": "stream",
     "text": [
      "In the realm of technology, the rapid pace of innovation continually reshapes our daily \n",
      "lives. From smartphones that have become extensions of ourselves to artificial \n",
      "intelligence systems that streamline processes, we find ourselves in a world of constant \n",
      "change. This transformation not only affects how we communicate but also how we \n",
      "work, learn, and entertain. However, amid the dazzling advancements, we must \n",
      "navigate ethical considerations and societal impacts. Striking a balance between \n",
      "progress and responsibility is paramount. As we embrace the future, it is crucial to \n",
      "foster a tech-savvy society that values ethical principles, ensuring that innovation serves \n",
      "the betterment of humanity. \n",
      "\n",
      "\f",
      "\n"
     ]
    }
   ],
   "source": [
    "#Extracting text\n",
    "from pdfminer.high_level import extract_pages, extract_text\n",
    "text = extract_text(r\"C:\\Users\\Cash\\Documents\\pruebas_python\\proyectos\\pdf\\In the realm of technology.pdf\")\n",
    "print(text)"
   ]
  },
  {
   "cell_type": "code",
   "execution_count": 7,
   "id": "038a6260",
   "metadata": {},
   "outputs": [
    {
     "name": "stdout",
     "output_type": "stream",
     "text": [
      "Adjectives found: ['rapid', 'daily', 'artificial', 'constant', 'ethical', 'societal', 'paramount', 'crucial', 'savvy', 'ethical']\n"
     ]
    }
   ],
   "source": [
    "#Extracting adjectives\n",
    "import spacy\n",
    "\n",
    "\n",
    "def extraer_adjetivos_spacy(texto):\n",
    "    # Cargar el modelo de spaCy para español\n",
    "    nlp = spacy.load('en_core_web_sm')\n",
    "\n",
    "    # Procesar el texto con spaCy\n",
    "    doc = nlp(texto)\n",
    "\n",
    "    # Extraer adjetivos del documento\n",
    "    adjetivos = [token.text for token in doc if token.pos_ == 'ADJ']\n",
    "\n",
    "    return adjetivos\n",
    "\n",
    "# Ejemplo de uso\n",
    "texto_ejemplo = \"Este es un ejemplo de texto con adjetivos interesantes y variados.\"\n",
    "adjetivos_encontrados = extraer_adjetivos_spacy(text)\n",
    "\n",
    "print(\"Adjectives found:\", adjetivos_encontrados)"
   ]
  },
  {
   "cell_type": "code",
   "execution_count": 8,
   "id": "ce7f1f9d",
   "metadata": {},
   "outputs": [
    {
     "name": "stdout",
     "output_type": "stream",
     "text": [
      "Verbs found: ['reshapes', 'become', 'streamline', 'find', 'affects', 'communicate', 'work', 'learn', 'dazzling', 'navigate', 'Striking', 'embrace', 'foster', 'values', 'ensuring', 'serves']\n"
     ]
    }
   ],
   "source": [
    "#Extracting verbs\n",
    "import spacy\n",
    "\n",
    "\n",
    "def extraer_adjetivos_spacy(texto):\n",
    "    # Cargar el modelo de spaCy para español\n",
    "    nlp = spacy.load('en_core_web_sm')\n",
    "\n",
    "    # Procesar el texto con spaCy\n",
    "    doc = nlp(texto)\n",
    "\n",
    "    # Extraer adjetivos del documento\n",
    "    adjetivos = [token.text for token in doc if token.pos_ == 'VERB']\n",
    "\n",
    "    return adjetivos\n",
    "\n",
    "# Ejemplo de uso\n",
    "texto_ejemplo = \"Este es un ejemplo de texto con adjetivos interesantes y variados.\"\n",
    "verbs_found = extraer_adjetivos_spacy(text)\n",
    "\n",
    "print(\"Verbs found:\", verbs_found)"
   ]
  },
  {
   "cell_type": "code",
   "execution_count": 13,
   "id": "24daf01f",
   "metadata": {},
   "outputs": [
    {
     "name": "stdout",
     "output_type": "stream",
     "text": [
      "Substantives found: ['realm', 'technology', 'pace', 'innovation', 'lives', 'smartphones', 'extensions', 'intelligence', 'systems', 'processes', 'world', 'change', 'transformation', 'entertain', 'advancements', 'considerations', 'impacts', 'balance', 'progress', 'responsibility', 'future', 'tech', 'society', 'principles', 'innovation', 'betterment', 'humanity']\n"
     ]
    }
   ],
   "source": [
    "#Extracting substantives\n",
    "import spacy\n",
    "\n",
    "\n",
    "def extraer_adjetivos_spacy(texto):\n",
    "    # Cargar el modelo de spaCy para español\n",
    "    nlp = spacy.load('en_core_web_sm')\n",
    "\n",
    "    # Procesar el texto con spaCy\n",
    "    doc = nlp(texto)\n",
    "\n",
    "    # Extraer adjetivos del documento\n",
    "    adjetivos = [token.text for token in doc if token.pos_ == 'NOUN']\n",
    "\n",
    "    return adjetivos\n",
    "\n",
    "# Ejemplo de uso\n",
    "texto_ejemplo = \"Este es un ejemplo de texto con adjetivos interesantes y variados.\"\n",
    "substantives_found = extraer_adjetivos_spacy(text)\n",
    "\n",
    "print(\"Substantives found:\", substantives_found)"
   ]
  }
 ],
 "metadata": {
  "kernelspec": {
   "display_name": "Python 3 (ipykernel)",
   "language": "python",
   "name": "python3"
  },
  "language_info": {
   "codemirror_mode": {
    "name": "ipython",
    "version": 3
   },
   "file_extension": ".py",
   "mimetype": "text/x-python",
   "name": "python",
   "nbconvert_exporter": "python",
   "pygments_lexer": "ipython3",
   "version": "3.11.6"
  }
 },
 "nbformat": 4,
 "nbformat_minor": 5
}
